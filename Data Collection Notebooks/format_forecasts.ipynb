{
 "cells": [
  {
   "attachments": {},
   "cell_type": "markdown",
   "metadata": {},
   "source": [
    "#### Python script that formats forecast data to show data from current day an onward."
   ]
  },
  {
   "cell_type": "code",
   "execution_count": 2,
   "metadata": {},
   "outputs": [],
   "source": [
    "import csv\n",
    "import os\n",
    "\n",
    "# Set the directory that you want to search for CSV files\n",
    "directory = './top25_SP500_forecasts/'\n",
    "\n",
    "# Iterate through all files in the directory\n",
    "for filename in os.listdir(directory):\n",
    "    # Check if the file is a CSV file\n",
    "    if filename.endswith('.csv'):\n",
    "        # Open the CSV file\n",
    "        with open(os.path.join(directory, filename), 'r') as csv_file:\n",
    "            # Read the CSV file\n",
    "            csv_reader = csv.reader(csv_file)\n",
    "            # Create a new list to store the updated data\n",
    "            updated_data = []\n",
    "            # Iterate through each row in the CSV file\n",
    "            for row in csv_reader:\n",
    "                # Check if the first column (the date) is after 2023-01-06\n",
    "                if row[0] >= '2023-01-06':\n",
    "                    # If it is, add the row to the updated data list\n",
    "                    updated_data.append(row)\n",
    "            # Close the CSV file\n",
    "            csv_file.close()\n",
    "        # Open the CSV file in write mode\n",
    "        with open(os.path.join(directory, filename), 'w') as csv_file:\n",
    "            # Create a CSV writer\n",
    "            csv_writer = csv.writer(csv_file)\n",
    "            # Write the updated data to the CSV file\n",
    "            csv_writer.writerows(updated_data)\n",
    "            # Close the CSV file\n",
    "            csv_file.close()\n"
   ]
  }
 ],
 "metadata": {
  "kernelspec": {
   "display_name": "dev",
   "language": "python",
   "name": "python3"
  },
  "language_info": {
   "codemirror_mode": {
    "name": "ipython",
    "version": 3
   },
   "file_extension": ".py",
   "mimetype": "text/x-python",
   "name": "python",
   "nbconvert_exporter": "python",
   "pygments_lexer": "ipython3",
   "version": "3.7.13"
  },
  "orig_nbformat": 4,
  "vscode": {
   "interpreter": {
    "hash": "6a7ae136a53a24601e63a177d18d4029f938b6714f24b844ae865dcffb9f6766"
   }
  }
 },
 "nbformat": 4,
 "nbformat_minor": 2
}
