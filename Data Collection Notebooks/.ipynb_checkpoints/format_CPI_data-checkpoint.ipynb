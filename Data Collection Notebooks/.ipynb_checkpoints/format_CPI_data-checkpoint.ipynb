{
 "cells": [
  {
   "cell_type": "code",
   "execution_count": 9,
   "metadata": {},
   "outputs": [],
   "source": [
    "import pandas as pd\n",
    "\n",
    "# Read the data from the CSV file\n",
    "df = pd.read_csv(\"./asset_historical_prices/CPIAUCSL.csv\")\n",
    "\n",
    "# Convert the \"ds\" column to a datetime type\n",
    "df[\"ds\"] = pd.to_datetime(df[\"ds\"])\n",
    "\n",
    "# Create a new dataframe with daily data by generating new rows for each day within each month\n",
    "df_daily = pd.DataFrame(columns=[\"ds\", \"CPI\"])\n",
    "for i, row in df.iterrows():\n",
    "    start_date = row[\"ds\"]\n",
    "    end_date = pd.to_datetime(start_date.strftime(\"%Y-%m-%d\")) + pd.DateOffset(months=1) - pd.DateOffset(days=1)\n",
    "    for d in pd.date_range(start_date, end_date):\n",
    "        df_daily = df_daily.append({\"ds\": d, \"CPI\": row[\"CPI\"]}, ignore_index=True)\n",
    "\n",
    "# Save the daily data to a new CSV file\n",
    "df_daily.to_csv(\"./asset_historical_prices/CPI_reformatted.csv\", index=False)\n"
   ]
  },
  {
   "cell_type": "code",
   "execution_count": 10,
   "metadata": {},
   "outputs": [
    {
     "data": {
      "text/plain": [
       "ds     0\n",
       "CPI    0\n",
       "dtype: int64"
      ]
     },
     "execution_count": 10,
     "metadata": {},
     "output_type": "execute_result"
    }
   ],
   "source": [
    "import pandas as pd\n",
    "df = pd.read_csv('./asset_historical_prices/CPI_reformatted.csv')\n",
    "\n",
    "df.isnull().sum() "
   ]
  }
 ],
 "metadata": {
  "kernelspec": {
   "display_name": "dev",
   "language": "python",
   "name": "python3"
  },
  "language_info": {
   "codemirror_mode": {
    "name": "ipython",
    "version": 3
   },
   "file_extension": ".py",
   "mimetype": "text/x-python",
   "name": "python",
   "nbconvert_exporter": "python",
   "pygments_lexer": "ipython3",
   "version": "3.7.13"
  },
  "orig_nbformat": 4,
  "vscode": {
   "interpreter": {
    "hash": "6a7ae136a53a24601e63a177d18d4029f938b6714f24b844ae865dcffb9f6766"
   }
  }
 },
 "nbformat": 4,
 "nbformat_minor": 2
}
